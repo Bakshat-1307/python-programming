{
 "cells": [
  {
   "cell_type": "code",
   "execution_count": 2,
   "id": "23f3b79a",
   "metadata": {},
   "outputs": [
    {
     "name": "stdout",
     "output_type": "stream",
     "text": [
      "enter a number:5\n",
      "15\n"
     ]
    }
   ],
   "source": [
    "#WAP TO PRINT SUM OF FIRST N NATURAL NUMBERS\n",
    "n=int(input(\"enter a number:\"))\n",
    "i=1\n",
    "sum=0\n",
    "while(i<=n):\n",
    "    sum=sum+i\n",
    "    i=i+1\n",
    "    \n",
    "print(sum)"
   ]
  },
  {
   "cell_type": "code",
   "execution_count": 10,
   "id": "d6a84e85",
   "metadata": {},
   "outputs": [
    {
     "name": "stdout",
     "output_type": "stream",
     "text": [
      "enter a number:8\n",
      "8\n",
      "16\n",
      "24\n",
      "32\n",
      "40\n",
      "48\n",
      "56\n",
      "64\n",
      "72\n",
      "80\n"
     ]
    }
   ],
   "source": [
    "#WAP TO PRINT THE TABLE OF ANY NUMBER\n",
    "n=int(input(\"enter a number:\"))\n",
    "i=1\n",
    "while(i<=10):\n",
    "    print(n*i)\n",
    "    i=i+1"
   ]
  },
  {
   "cell_type": "code",
   "execution_count": 12,
   "id": "8415a748",
   "metadata": {},
   "outputs": [
    {
     "name": "stdout",
     "output_type": "stream",
     "text": [
      "enter a number:456\n",
      "number of digits are: 3\n"
     ]
    }
   ],
   "source": [
    "#WAP TO CALCULATE NUMBER OF DIGITS IN A NUMBER\n",
    "n=int(input(\"enter a number:\"))\n",
    "sum=0\n",
    "while(n>0):\n",
    "    sum=sum+1\n",
    "    n=n//10\n",
    "print(\"number of digits are:\",sum)"
   ]
  },
  {
   "cell_type": "code",
   "execution_count": 4,
   "id": "bdcb8236",
   "metadata": {},
   "outputs": [
    {
     "name": "stdout",
     "output_type": "stream",
     "text": [
      "2550\n"
     ]
    }
   ],
   "source": [
    "#WAP TO PRINT SUM OF ALL EVEN NUMBERS BETWEEN 1 TO 100\n",
    "i=2\n",
    "sum=0\n",
    "while(i<=100):\n",
    "    sum=sum+i\n",
    "    i=i+2\n",
    "print(sum)"
   ]
  },
  {
   "cell_type": "code",
   "execution_count": 1,
   "id": "9bb6c0a0",
   "metadata": {},
   "outputs": [
    {
     "name": "stdout",
     "output_type": "stream",
     "text": [
      "4\n",
      "16\n",
      "36\n",
      "64\n",
      "100\n",
      "144\n",
      "196\n",
      "256\n",
      "324\n",
      "400\n",
      "484\n",
      "576\n",
      "676\n",
      "784\n",
      "900\n",
      "1024\n",
      "1156\n",
      "1296\n",
      "1444\n",
      "1600\n",
      "1764\n",
      "1936\n",
      "2116\n",
      "2304\n",
      "2500\n",
      "2704\n",
      "2916\n",
      "3136\n",
      "3364\n",
      "3600\n",
      "3844\n",
      "4096\n",
      "4356\n",
      "4624\n",
      "4900\n",
      "5184\n",
      "5476\n",
      "5776\n",
      "6084\n",
      "6400\n",
      "6724\n",
      "7056\n",
      "7396\n",
      "7744\n",
      "8100\n",
      "8464\n",
      "8836\n",
      "9216\n",
      "9604\n",
      "10000\n"
     ]
    }
   ],
   "source": [
    "#WAP TO CALCULATE THE SQUARES OF EVEN NUMBERS BETWEEN 1 TO 100\n",
    "i=1\n",
    "while(i<=100):\n",
    "    if(i%2==0):\n",
    "        print(i**2)\n",
    "    i=i+1\n",
    "    "
   ]
  },
  {
   "cell_type": "code",
   "execution_count": 5,
   "id": "f68c6991",
   "metadata": {},
   "outputs": [
    {
     "name": "stdout",
     "output_type": "stream",
     "text": [
      "cube of 1 is:1\n",
      "square of 2 is:4\n",
      "cube of 3 is:27\n",
      "square of 4 is:16\n",
      "cube of 5 is:125\n",
      "square of 6 is:36\n",
      "cube of 7 is:343\n",
      "square of 8 is:64\n",
      "cube of 9 is:729\n",
      "square of 10 is:100\n",
      "cube of 11 is:1331\n",
      "square of 12 is:144\n",
      "cube of 13 is:2197\n",
      "square of 14 is:196\n",
      "cube of 15 is:3375\n",
      "square of 16 is:256\n",
      "cube of 17 is:4913\n",
      "square of 18 is:324\n",
      "cube of 19 is:6859\n",
      "square of 20 is:400\n",
      "cube of 21 is:9261\n",
      "square of 22 is:484\n",
      "cube of 23 is:12167\n",
      "square of 24 is:576\n",
      "cube of 25 is:15625\n",
      "square of 26 is:676\n",
      "cube of 27 is:19683\n",
      "square of 28 is:784\n",
      "cube of 29 is:24389\n",
      "square of 30 is:900\n",
      "cube of 31 is:29791\n",
      "square of 32 is:1024\n",
      "cube of 33 is:35937\n",
      "square of 34 is:1156\n",
      "cube of 35 is:42875\n",
      "square of 36 is:1296\n",
      "cube of 37 is:50653\n",
      "square of 38 is:1444\n",
      "cube of 39 is:59319\n",
      "square of 40 is:1600\n",
      "cube of 41 is:68921\n",
      "square of 42 is:1764\n",
      "cube of 43 is:79507\n",
      "square of 44 is:1936\n",
      "cube of 45 is:91125\n",
      "square of 46 is:2116\n",
      "cube of 47 is:103823\n",
      "square of 48 is:2304\n",
      "cube of 49 is:117649\n",
      "square of 50 is:2500\n",
      "cube of 51 is:132651\n",
      "square of 52 is:2704\n",
      "cube of 53 is:148877\n",
      "square of 54 is:2916\n",
      "cube of 55 is:166375\n",
      "square of 56 is:3136\n",
      "cube of 57 is:185193\n",
      "square of 58 is:3364\n",
      "cube of 59 is:205379\n",
      "square of 60 is:3600\n",
      "cube of 61 is:226981\n",
      "square of 62 is:3844\n",
      "cube of 63 is:250047\n",
      "square of 64 is:4096\n",
      "cube of 65 is:274625\n",
      "square of 66 is:4356\n",
      "cube of 67 is:300763\n",
      "square of 68 is:4624\n",
      "cube of 69 is:328509\n",
      "square of 70 is:4900\n",
      "cube of 71 is:357911\n",
      "square of 72 is:5184\n",
      "cube of 73 is:389017\n",
      "square of 74 is:5476\n",
      "cube of 75 is:421875\n",
      "square of 76 is:5776\n",
      "cube of 77 is:456533\n",
      "square of 78 is:6084\n",
      "cube of 79 is:493039\n",
      "square of 80 is:6400\n",
      "cube of 81 is:531441\n",
      "square of 82 is:6724\n",
      "cube of 83 is:571787\n",
      "square of 84 is:7056\n",
      "cube of 85 is:614125\n",
      "square of 86 is:7396\n",
      "cube of 87 is:658503\n",
      "square of 88 is:7744\n",
      "cube of 89 is:704969\n",
      "square of 90 is:8100\n",
      "cube of 91 is:753571\n",
      "square of 92 is:8464\n",
      "cube of 93 is:804357\n",
      "square of 94 is:8836\n",
      "cube of 95 is:857375\n",
      "square of 96 is:9216\n",
      "cube of 97 is:912673\n",
      "square of 98 is:9604\n",
      "cube of 99 is:970299\n",
      "square of 100 is:10000\n"
     ]
    }
   ],
   "source": [
    "#WAP TO PRINT SQUARE OF EVEN NUMBER AND CUBE OF ODD NUMBER BEWTEEN 1 TO 100\n",
    "i=1\n",
    "while(i<=100):\n",
    "    if(i%2==0):\n",
    "        s=i**2\n",
    "        print(\"square of {} is:{}\".format(i,s))\n",
    "    else:\n",
    "        c=i**3\n",
    "        print(\"cube of {} is:{}\".format(i,c))\n",
    "    i=i+1"
   ]
  },
  {
   "cell_type": "code",
   "execution_count": 9,
   "id": "58f71f1d",
   "metadata": {},
   "outputs": [
    {
     "name": "stdout",
     "output_type": "stream",
     "text": [
      "enter a number:456\n",
      "sum of the digits are:15\n"
     ]
    }
   ],
   "source": [
    "#WAP TO PRINT SUM OF DIGITS IN A NUMBER\n",
    "n=int(input(\"enter a number:\"))\n",
    "sum=0\n",
    "while(n!=0):\n",
    "    sum=sum+(n%10)\n",
    "    n=n//10\n",
    "print(\"sum of the digits are:{}\".format(sum))"
   ]
  },
  {
   "cell_type": "code",
   "execution_count": 1,
   "id": "9c63f40d",
   "metadata": {},
   "outputs": [
    {
     "name": "stdout",
     "output_type": "stream",
     "text": [
      "Enter a number:121\n",
      "The number is palindrome!\n"
     ]
    }
   ],
   "source": [
    "#WAP TO CHECK WHEATHER A NUMBER IS PALINDROME OR NOT\n",
    "num=int(input(\"Enter a number:\"))\n",
    "temp=num\n",
    "rev=0\n",
    "while(num!=0):\n",
    "    dig=num%10\n",
    "    rev=rev*10+dig\n",
    "    num=num//10\n",
    "if(temp==rev):\n",
    "    print(\"The number is palindrome!\")\n",
    "else:\n",
    "    print(\"Not a palindrome!\")"
   ]
  },
  {
   "cell_type": "code",
   "execution_count": 2,
   "id": "3637bb99",
   "metadata": {},
   "outputs": [
    {
     "name": "stdout",
     "output_type": "stream",
     "text": [
      "\n",
      "Enter whole number to check : 7\n",
      "7  is a prime number.\n"
     ]
    }
   ],
   "source": [
    "#WAP TO CHECK WHEATHER A NUMBER IS PRIME OR NOT\n",
    "flag = 0\n",
    "n = int(input('\\nEnter whole number to check : '))\n",
    "i = 2\n",
    "while i<n:\n",
    "    if (n%i == 0):\n",
    "        flag = 1\n",
    "        break\n",
    "    else:\n",
    "        i=i+1\n",
    "\n",
    "if n == 1:\n",
    "    print('1 is neither prime nor composite')\n",
    "elif flag == 0:\n",
    "    print(n,' is a prime number.')\n",
    "elif flag == 1:\n",
    "    print(n,' is not a prime number.')\n",
    "    \n"
   ]
  },
  {
   "cell_type": "markdown",
   "id": "9fbd842e",
   "metadata": {},
   "source": [
    "L2=[]\n",
    "L1=[1,2,3,4,5,6,7,8,9]\n",
    "for i in L1:\n",
    "    L1.append(i)\n",
    "    \n",
    "    \n",
    "\n",
    "print(L1)"
   ]
  },
  {
   "cell_type": "code",
   "execution_count": null,
   "id": "c14d0024",
   "metadata": {},
   "outputs": [],
   "source": [
    "L2=[]\n",
    "L1=[1,2,3,4,5,6,7,8,9]\n",
    "for i in L1:\n",
    "    L1.append(i)\n",
    "    \n",
    "    \n",
    "\n",
    "print(L1)"
   ]
  },
  {
   "cell_type": "code",
   "execution_count": null,
   "id": "fdc0f8bc",
   "metadata": {},
   "outputs": [],
   "source": []
  }
 ],
 "metadata": {
  "kernelspec": {
   "display_name": "Python 3 (ipykernel)",
   "language": "python",
   "name": "python3"
  },
  "language_info": {
   "codemirror_mode": {
    "name": "ipython",
    "version": 3
   },
   "file_extension": ".py",
   "mimetype": "text/x-python",
   "name": "python",
   "nbconvert_exporter": "python",
   "pygments_lexer": "ipython3",
   "version": "3.9.13"
  }
 },
 "nbformat": 4,
 "nbformat_minor": 5
}

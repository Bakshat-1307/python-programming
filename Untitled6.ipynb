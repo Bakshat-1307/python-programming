{
 "cells": [
  {
   "cell_type": "code",
   "execution_count": null,
   "id": "9f9db12f",
   "metadata": {},
   "outputs": [],
   "source": [
    "str=input(\"enter a string:\")\n",
    "if(str[0:3]==str[3::]):\n",
    "    print(\"entered string is symmetric\")\n",
    "if(str==str[::-1]):\n",
    "    print(\"entered string is palindrome\")\n",
    "if((str[0:3]==str[3::])&(str==str[::-1])):\n",
    "    print(\"entered string is both symmetric and palindrome\")"
   ]
  },
  {
   "cell_type": "code",
   "execution_count": null,
   "id": "4ac2faa5",
   "metadata": {},
   "outputs": [],
   "source": [
    "pan=input(\"enter a pan number:\")\n",
    "a=pan[0:5]\n",
    "b=pan[5:9]\n",
    "c=pan[9::]\n",
    "if(len(pan)==10):\n",
    "    if(type(d)==str&type(b)==int&type(c)==str):\n",
    "        print(\"valid pan\")\n",
    "else:\n",
    "    print(\"invalid pan\")\n",
    "    "
   ]
  },
  {
   "cell_type": "code",
   "execution_count": 2,
   "id": "fb036bc4",
   "metadata": {},
   "outputs": [
    {
     "ename": "SyntaxError",
     "evalue": "(unicode error) 'unicodeescape' codec can't decode bytes in position 5-6: truncated \\xXX escape (271527264.py, line 16)",
     "output_type": "error",
     "traceback": [
      "\u001b[0;36m  File \u001b[0;32m\"/var/folders/1p/g4m4hv196h52ktmkx9s8srkr0000gn/T/ipykernel_2032/271527264.py\"\u001b[0;36m, line \u001b[0;32m16\u001b[0m\n\u001b[0;31m    shutil.move(\"xyz.txt\",\".\\new\\xyz.txt\")\u001b[0m\n\u001b[0m                                         ^\u001b[0m\n\u001b[0;31mSyntaxError\u001b[0m\u001b[0;31m:\u001b[0m (unicode error) 'unicodeescape' codec can't decode bytes in position 5-6: truncated \\xXX escape\n"
     ]
    }
   ],
   "source": [
    "import os\n",
    "import shutil\n",
    "os.mkdir(\"demo\")\n",
    "os.chdir(\"demo\")\n",
    "print(\"cwd\",os.getcwd())\n",
    "os.mkdir(\"new\")\n",
    "f=open(\"abc.txt\",\"wt\")\n",
    "l=[\"hello\",\"how are you\"]\n",
    "f.writelines(l)\n",
    "f1=open(\"xyz.txt\",\"w\")\n",
    "f.seek(0,0)\n",
    "a=f.read()\n",
    "f1.write(a)\n",
    "f.close()\n",
    "f1.close()\n",
    "shutil.move(\"xyz.txt\",\".\\new\\xyz.txt\")\n",
    "os.chdir(\"new\")\n",
    "print(os.listdir())\n"
   ]
  },
  {
   "cell_type": "code",
   "execution_count": null,
   "id": "cc518466",
   "metadata": {},
   "outputs": [],
   "source": []
  }
 ],
 "metadata": {
  "kernelspec": {
   "display_name": "Python 3 (ipykernel)",
   "language": "python",
   "name": "python3"
  },
  "language_info": {
   "codemirror_mode": {
    "name": "ipython",
    "version": 3
   },
   "file_extension": ".py",
   "mimetype": "text/x-python",
   "name": "python",
   "nbconvert_exporter": "python",
   "pygments_lexer": "ipython3",
   "version": "3.9.13"
  }
 },
 "nbformat": 4,
 "nbformat_minor": 5
}

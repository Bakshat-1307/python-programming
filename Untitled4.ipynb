{
 "cells": [
  {
   "cell_type": "code",
   "execution_count": 2,
   "id": "44327e3a",
   "metadata": {},
   "outputs": [],
   "source": [
    "def sum(*num):\n",
    "    s=0\n",
    "    for i in num:\n",
    "        s=s+i\n",
    "    return s"
   ]
  },
  {
   "cell_type": "code",
   "execution_count": 3,
   "id": "91ff63c8",
   "metadata": {},
   "outputs": [
    {
     "data": {
      "text/plain": [
       "22"
      ]
     },
     "execution_count": 3,
     "metadata": {},
     "output_type": "execute_result"
    }
   ],
   "source": [
    "sum(4,5,6,7)"
   ]
  },
  {
   "cell_type": "code",
   "execution_count": 20,
   "id": "d0137887",
   "metadata": {},
   "outputs": [],
   "source": [
    "def fact(n):\n",
    "    factn=1\n",
    "    while(n!=0):\n",
    "        factn=factn*n\n",
    "        n=n-1\n",
    "    print(factn)\n",
    "def fact2(n,r):\n",
    "    t=n-r\n",
    "    factr=1\n",
    "    while(t!=0):\n",
    "        factr=factr*t\n",
    "        t=t-1\n",
    "    print(t)"
   ]
  },
  {
   "cell_type": "code",
   "execution_count": 21,
   "id": "a3133edd",
   "metadata": {},
   "outputs": [
    {
     "ename": "TypeError",
     "evalue": "'int' object is not callable",
     "output_type": "error",
     "traceback": [
      "\u001b[0;31m---------------------------------------------------------------------------\u001b[0m",
      "\u001b[0;31mTypeError\u001b[0m                                 Traceback (most recent call last)",
      "\u001b[0;32m/var/folders/1p/g4m4hv196h52ktmkx9s8srkr0000gn/T/ipykernel_47342/3051065087.py\u001b[0m in \u001b[0;36m<module>\u001b[0;34m\u001b[0m\n\u001b[0;32m----> 1\u001b[0;31m \u001b[0mfactorial\u001b[0m\u001b[0;34m(\u001b[0m\u001b[0;36m4\u001b[0m\u001b[0;34m,\u001b[0m\u001b[0;36m5\u001b[0m\u001b[0;34m)\u001b[0m\u001b[0;34m\u001b[0m\u001b[0;34m\u001b[0m\u001b[0m\n\u001b[0m",
      "\u001b[0;32m/var/folders/1p/g4m4hv196h52ktmkx9s8srkr0000gn/T/ipykernel_47342/2366276373.py\u001b[0m in \u001b[0;36mfactorial\u001b[0;34m(n, r)\u001b[0m\n\u001b[1;32m      2\u001b[0m     \u001b[0mf\u001b[0m\u001b[0;34m=\u001b[0m\u001b[0;36m0\u001b[0m\u001b[0;34m\u001b[0m\u001b[0;34m\u001b[0m\u001b[0m\n\u001b[1;32m      3\u001b[0m     \u001b[0;32mwhile\u001b[0m\u001b[0;34m(\u001b[0m\u001b[0mn\u001b[0m\u001b[0;34m!=\u001b[0m\u001b[0;36m0\u001b[0m\u001b[0;34m)\u001b[0m\u001b[0;34m:\u001b[0m\u001b[0;34m\u001b[0m\u001b[0;34m\u001b[0m\u001b[0m\n\u001b[0;32m----> 4\u001b[0;31m         \u001b[0mf\u001b[0m\u001b[0;34m=\u001b[0m\u001b[0mn\u001b[0m\u001b[0;34m/\u001b[0m\u001b[0;34m(\u001b[0m\u001b[0mr\u001b[0m\u001b[0;34m(\u001b[0m\u001b[0mn\u001b[0m\u001b[0;34m-\u001b[0m\u001b[0mr\u001b[0m\u001b[0;34m)\u001b[0m\u001b[0;34m)\u001b[0m\u001b[0;34m\u001b[0m\u001b[0;34m\u001b[0m\u001b[0m\n\u001b[0m\u001b[1;32m      5\u001b[0m         \u001b[0mn\u001b[0m\u001b[0;34m=\u001b[0m\u001b[0mn\u001b[0m\u001b[0;34m-\u001b[0m\u001b[0;36m1\u001b[0m\u001b[0;34m\u001b[0m\u001b[0;34m\u001b[0m\u001b[0m\n\u001b[1;32m      6\u001b[0m         \u001b[0mr\u001b[0m\u001b[0;34m=\u001b[0m\u001b[0mr\u001b[0m\u001b[0;34m-\u001b[0m\u001b[0;36m1\u001b[0m\u001b[0;34m\u001b[0m\u001b[0;34m\u001b[0m\u001b[0m\n",
      "\u001b[0;31mTypeError\u001b[0m: 'int' object is not callable"
     ]
    }
   ],
   "source": [
    "factorial(4,5)"
   ]
  },
  {
   "cell_type": "code",
   "execution_count": null,
   "id": "6f1cba61",
   "metadata": {},
   "outputs": [
    {
     "name": "stdout",
     "output_type": "stream",
     "text": [
      "6\n"
     ]
    }
   ],
   "source": [
    "fact(3)\n",
    "fact2(6,7)"
   ]
  },
  {
   "cell_type": "code",
   "execution_count": null,
   "id": "b697f125",
   "metadata": {},
   "outputs": [],
   "source": [
    "fact2(7,4)"
   ]
  },
  {
   "cell_type": "code",
   "execution_count": 5,
   "id": "ee529b6e",
   "metadata": {},
   "outputs": [],
   "source": [
    "def factorial(num):\n",
    "    if num==1:\n",
    "        return 1\n",
    "    else:\n",
    "        return num*factorial(num-1)\n",
    "def combi(n,r):\n",
    "    ncr=factorial(n)/factorial(r)*factorial(n-r)\n",
    "    return(ncr)"
   ]
  },
  {
   "cell_type": "code",
   "execution_count": 6,
   "id": "8fa6384b",
   "metadata": {},
   "outputs": [
    {
     "data": {
      "text/plain": [
       "40.0"
      ]
     },
     "execution_count": 6,
     "metadata": {},
     "output_type": "execute_result"
    }
   ],
   "source": [
    "combi(5,3)"
   ]
  },
  {
   "cell_type": "code",
   "execution_count": 11,
   "id": "c3a52b55",
   "metadata": {},
   "outputs": [
    {
     "name": "stdout",
     "output_type": "stream",
     "text": [
      "[10, 20, None, 6, None, None, 34, None]\n"
     ]
    }
   ],
   "source": [
    "def even(num):\n",
    "    if(num%2==0):\n",
    "        return num\n",
    "list1=[10,20,21,6,9,27,34,45]\n",
    "evenlist=list(map(even,list1))\n",
    "print(evenlist)"
   ]
  },
  {
   "cell_type": "code",
   "execution_count": 17,
   "id": "dc081b7c",
   "metadata": {},
   "outputs": [
    {
     "name": "stdout",
     "output_type": "stream",
     "text": [
      "[0, 2, 4, 6, 8, 10, 12, 14, 16, 18, 20, 22, 24, 26, 28, 30, 32, 34, 36, 38]\n"
     ]
    }
   ],
   "source": [
    "def square(num):\n",
    "    return num*2\n",
    "l2=[i for i in range (20)]\n",
    "l3=list(map(square,l2))\n",
    "print(l3)"
   ]
  },
  {
   "cell_type": "code",
   "execution_count": 22,
   "id": "72a9872b",
   "metadata": {},
   "outputs": [
    {
     "name": "stdout",
     "output_type": "stream",
     "text": [
      "290\n"
     ]
    }
   ],
   "source": [
    "import functools\n",
    "def sum(x,y):\n",
    "    return x+y\n",
    "l5=[i for i in range(20,40,2)]\n",
    "l4=functools.reduce(sum,l5)\n",
    "print(l4)"
   ]
  },
  {
   "cell_type": "code",
   "execution_count": 28,
   "id": "dd6d17b7",
   "metadata": {},
   "outputs": [
    {
     "name": "stdout",
     "output_type": "stream",
     "text": [
      "113.04\n"
     ]
    }
   ],
   "source": [
    "def area_circle(radius):\n",
    "    pi=3.14\n",
    "    def sq(n):\n",
    "        return n*n\n",
    "    return pi*sq(radius)\n",
    "area=area_circle(6)\n",
    "print(area)"
   ]
  },
  {
   "cell_type": "code",
   "execution_count": null,
   "id": "0077d92c",
   "metadata": {},
   "outputs": [],
   "source": [
    "S=[[akshat,5,86],[abhinav,7,89],[dishant,3,88]]\n",
    "\n",
    "\n",
    "    \n"
   ]
  }
 ],
 "metadata": {
  "kernelspec": {
   "display_name": "Python 3 (ipykernel)",
   "language": "python",
   "name": "python3"
  },
  "language_info": {
   "codemirror_mode": {
    "name": "ipython",
    "version": 3
   },
   "file_extension": ".py",
   "mimetype": "text/x-python",
   "name": "python",
   "nbconvert_exporter": "python",
   "pygments_lexer": "ipython3",
   "version": "3.9.13"
  }
 },
 "nbformat": 4,
 "nbformat_minor": 5
}

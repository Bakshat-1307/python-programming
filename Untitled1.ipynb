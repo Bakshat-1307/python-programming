{
 "cells": [
  {
   "cell_type": "code",
   "execution_count": null,
   "id": "215e6b09",
   "metadata": {
    "scrolled": true
   },
   "outputs": [],
   "source": [
    "#WAP TO CHECK IF NUM IS EVEN OR ODD\n",
    "num=int(input(\"enter a number:\"))\n",
    "print(\"even\") if (num%2==0) else print(\"odd\")"
   ]
  },
  {
   "cell_type": "code",
   "execution_count": 1,
   "id": "1fec2a7c",
   "metadata": {},
   "outputs": [
    {
     "name": "stdout",
     "output_type": "stream",
     "text": [
      "enter a number:18\n",
      "divisible by 3 and 9\n"
     ]
    }
   ],
   "source": [
    "#WAP TO CHECK WHEATHER A NUMBER IS DIVISIBLE BY 3 AND 9\n",
    "num=int(input(\"enter a number:\"))\n",
    "if(num%3==0 and num%9==0):\n",
    "    print(\"divisible by 3 and 9\")\n",
    "else:\n",
    "    print(\"not divisible by 3 or 9\")\n",
    "    "
   ]
  },
  {
   "cell_type": "code",
   "execution_count": 5,
   "id": "85070668",
   "metadata": {},
   "outputs": [
    {
     "name": "stdout",
     "output_type": "stream",
     "text": [
      "enter the first number:22\n",
      "enter the second number:45\n",
      "45 is greater\n"
     ]
    }
   ],
   "source": [
    "#WAP TO FIND THE SMALLEST BETWEEN THE TWO NUMBERS\n",
    "num1=int(input(\"enter the first number:\"))\n",
    "num2=int(input(\"enter the second number:\"))\n",
    "print(num2,\"is greater\") if(num2>num1) else print(num1, \"is greater\")"
   ]
  },
  {
   "cell_type": "code",
   "execution_count": 10,
   "id": "c94a7e8d",
   "metadata": {},
   "outputs": [
    {
     "name": "stdout",
     "output_type": "stream",
     "text": [
      "enter the radius of circle:4\n",
      "area: 50.24\n"
     ]
    }
   ],
   "source": [
    "#WAP TO CALCULATE AREA OF A CIRCLE\n",
    "radius=int(input(\"enter the radius of circle:\"))\n",
    "area=3.14*(radius**2)\n",
    "print(\"area:\",area) if(radius>0) else print(\"enter a valid radius\")"
   ]
  },
  {
   "cell_type": "code",
   "execution_count": 9,
   "id": "91611945",
   "metadata": {},
   "outputs": [
    {
     "name": "stdout",
     "output_type": "stream",
     "text": [
      "enter a number:4\n",
      "16\n"
     ]
    }
   ],
   "source": [
    "#WAP TO CALCULATE SQUARE OF EVEN NUMBER\n",
    "num=int(input(\"enter a number:\"))\n",
    "sq=(num**2) if (num%2==0) else print(\"odd\")\n",
    "print(sq)"
   ]
  },
  {
   "cell_type": "code",
   "execution_count": 41,
   "id": "74d0c84d",
   "metadata": {},
   "outputs": [
    {
     "name": "stdout",
     "output_type": "stream",
     "text": [
      "enter the radius of circle:6\n",
      "area: 113.04 paremeter: 37.68\n"
     ]
    }
   ],
   "source": [
    "#WAP TO CALCULATE AREA AND PAREMETER OF A CIRCLE\n",
    "radius=int(input(\"enter the radius of circle:\"))\n",
    "area,paremeter=(3.14*(radius**2)),(2*3.14*radius) if(radius>0) else print(\"enter a valid radius\")\n",
    "print(\"area:\",area,\"paremeter:\",paremeter)\n"
   ]
  },
  {
   "cell_type": "code",
   "execution_count": 16,
   "id": "4f1ea8cb",
   "metadata": {},
   "outputs": [
    {
     "name": "stdout",
     "output_type": "stream",
     "text": [
      "enter your age:34\n",
      "you are eligible to vote\n"
     ]
    }
   ],
   "source": [
    "#WAP TO CHECK WHEATHER A PERSON IS ELIGIBLE TO VOTE\n",
    "age=int(input(\"enter your age:\"))\n",
    "print(\"you are eligible to vote\") if(age>18) else print(\"not eligible to vote\")"
   ]
  },
  {
   "cell_type": "code",
   "execution_count": 1,
   "id": "0d67327a",
   "metadata": {},
   "outputs": [
    {
     "name": "stdout",
     "output_type": "stream",
     "text": [
      "enter the year:2000\n",
      "Given Year is a leap Year\n"
     ]
    }
   ],
   "source": [
    "#WAP TO CHECK WHEATHER A YEAR IS LEAP YEAR OR NOT\n",
    "Year=int(input(\"enter the year:\"))\n",
    "if((Year % 400 == 0) or  (Year % 100 != 0) and  (Year % 4 == 0)):   \n",
    "    print(\"Given Year is a leap Year\");  \n",
    "else:  \n",
    "    print (\"Given Year is not a leap Year\") "
   ]
  },
  {
   "cell_type": "code",
   "execution_count": 17,
   "id": "75d9d2a3",
   "metadata": {},
   "outputs": [
    {
     "name": "stdout",
     "output_type": "stream",
     "text": [
      "enter a:3\n",
      "enter b:4\n",
      "enter c:23\n",
      "greatest of three numbers is:23\n"
     ]
    }
   ],
   "source": [
    "#WAP TO FIND GREATEST OF 3 NUMBERS\n",
    "n1=int(input(\"enter a:\"))\n",
    "n2=int(input(\"enter b:\"))\n",
    "n3=int(input(\"enter c:\"))\n",
    "if n1>n2:\n",
    "    if n1>n3:\n",
    "        print(\"greatest of three numbers is:{}\".format(n1))\n",
    "elif n2>n3:\n",
    "    print(\"greatest of three numbers is:{}\".format(n2))\n",
    "else:\n",
    "    print(\"greatest of three numbers is:{}\".format(n3))\n",
    "    "
   ]
  },
  {
   "cell_type": "code",
   "execution_count": 23,
   "id": "c2212590",
   "metadata": {},
   "outputs": [
    {
     "name": "stdout",
     "output_type": "stream",
     "text": [
      "enter a:1\n",
      "enter b:2\n",
      "enter c:3\n",
      "enter d:4\n",
      "1 is the smallest\n"
     ]
    }
   ],
   "source": [
    "#WAP TO FIND THE SMALLEST OF FOUR NUMBERS\n",
    "n1=int(input(\"enter a:\"))\n",
    "n2=int(input(\"enter b:\"))\n",
    "n3=int(input(\"enter c:\"))\n",
    "n4=int(input(\"enter d:\"))\n",
    "if (n1<n2):\n",
    "    if (n1<n3):\n",
    "        if (n1<n4):\n",
    "            print(n1,\"is the smallest\")\n",
    "elif (n2<n3):\n",
    "    if n2<n4:\n",
    "        print(n2,\"is the smallest\")\n",
    "elif (n3<n4):\n",
    "    print(n3,\"is the smallest\")\n",
    "else:\n",
    "    print(n4,\"is the smallest\")"
   ]
  },
  {
   "cell_type": "markdown",
   "id": "22c7c9e2",
   "metadata": {},
   "source": []
  },
  {
   "cell_type": "code",
   "execution_count": 7,
   "id": "490394ca",
   "metadata": {},
   "outputs": [
    {
     "name": "stdout",
     "output_type": "stream",
     "text": [
      "enter a:1\n",
      "enter b:1\n",
      "enter c:-30\n",
      "the solutions are -6.5 and -6.5\n"
     ]
    }
   ],
   "source": [
    "#WAP TO CALCULATE REAL ROOTS OF A QUADRATIC EQUATION\n",
    "import math\n",
    "a=int(input(\"enter a:\"))\n",
    "b=int(input(\"enter b:\"))\n",
    "c=int(input(\"enter c:\"))\n",
    "d=(b**2)-(4*a*c)\n",
    "if d>=0:\n",
    "    r1=-b-(math.sqrt(d))/(2*a)\n",
    "    r2=-b+(math.sqrt(d))/(2*a)\n",
    "    print(\"the solutions are {} and {}\".format(r1,r1))\n",
    "else:\n",
    "    print(\"imaginary roots\")"
   ]
  },
  {
   "cell_type": "code",
   "execution_count": 11,
   "id": "751fb61f",
   "metadata": {},
   "outputs": [
    {
     "name": "stdout",
     "output_type": "stream",
     "text": [
      "enter a year:2000\n",
      "2000 is a leap year\n"
     ]
    }
   ],
   "source": [
    "#WAP TO FIND LEAP YEAR\n",
    "year = int(input(\"enter a year:\"))\n",
    "if (year % 400 == 0) & (year % 100 == 0):\n",
    "    print(\"{0} is a leap year\".format(year))\n",
    "elif (year % 4 ==0) & (year % 100 != 0):\n",
    "    print(\"{0} is a leap year\".format(year))\n",
    "else:\n",
    "    print(\"{0} is not a leap year\".format(year))"
   ]
  },
  {
   "cell_type": "code",
   "execution_count": 2,
   "id": "0e1c2546",
   "metadata": {},
   "outputs": [
    {
     "name": "stdout",
     "output_type": "stream",
     "text": [
      "enter 1st number \n",
      "23\n",
      "enter 2nd number \n",
      "45\n",
      "enter 3rd number \n",
      "67\n",
      "67 is greatest\n"
     ]
    }
   ],
   "source": [
    "#WAP TO FIND GREATEST OF THREE NUMBERS\n",
    "n1=int(input(\"enter 1st number \\n\"))\n",
    "n2=int(input(\"enter 2nd number \\n\"))\n",
    "n3=int(input(\"enter 3rd number \\n\"))\n",
    "if(n1>n2&n1>n3):\n",
    "        print(\"{one} is greatest\".format(one=n1))\n",
    "if(n2>n3&n2>n1):\n",
    "    print(\"{one}is greatest\".format(one=n2))\n",
    "else:\n",
    "    print(\"{one} is greatest\".format(one=n3))"
   ]
  },
  {
   "cell_type": "code",
   "execution_count": 3,
   "id": "b91de61b",
   "metadata": {},
   "outputs": [
    {
     "name": "stdout",
     "output_type": "stream",
     "text": [
      "enter 1st number \n",
      "12\n",
      "enter 2nd number \n",
      "2\n",
      "enter 3rd number \n",
      "56\n",
      "enter 4th number \n",
      "3\n",
      "2 is smallest\n"
     ]
    }
   ],
   "source": [
    "#WAP TO FIND SMALLEST BETWEEN FOUR NUMBERS\n",
    "n1=int(input(\"enter 1st number \\n\"))\n",
    "n2=int(input(\"enter 2nd number \\n\"))\n",
    "n3=int(input(\"enter 3rd number \\n\"))\n",
    "n4=int(input(\"enter 4th number \\n\"))\n",
    "if(n1<n2 and n1<n3 and n1<n4):\n",
    "    print(\"{one} is smallest\".format(one=n1))\n",
    "elif(n2<n1 and n2<n3 and n2<n4):\n",
    "    print(\"{one} is smallest\".format(one=n2))\n",
    "elif(n3<n1 and n3<n2 and n3<n4):\n",
    "    print(\"{one} is smallest\".format(one=n3))\n",
    "else:\n",
    "    print(\"{one} is smallest\".format(one=n4))"
   ]
  },
  {
   "cell_type": "code",
   "execution_count": 4,
   "id": "15d1fa2e",
   "metadata": {},
   "outputs": [
    {
     "name": "stdout",
     "output_type": "stream",
     "text": [
      "enter marks in maths: \n",
      "67\n",
      "enter marks in physics: \n",
      "78\n",
      "enter marks in chemistry: \n",
      "75\n",
      "average= 73.33333333333333 \n",
      "\n",
      "percentage= 73.33333333333333 \n",
      "\n",
      "GRADE=\n",
      "A\n"
     ]
    }
   ],
   "source": [
    "#WAP TO CALCULATE AVERAGE MARKS AND PERCENTAGE\n",
    "a=int(input(\"enter marks in maths: \\n\"))\n",
    "b=int(input(\"enter marks in physics: \\n\"))\n",
    "c=int(input(\"enter marks in chemistry: \\n\"))\n",
    "av=(a+b+c)/3\n",
    "p=((a+b+c)/300)*100\n",
    "print(\"average=\",av ,\"\\n\")\n",
    "print('percentage=',p,\"\\n\")\n",
    "print('GRADE=')\n",
    "if(p>=90):\n",
    "    print('O')\n",
    "elif(p<90 and p>=75):\n",
    "    print('A+')\n",
    "elif(p>=60 and p<75):\n",
    "    print('A')\n",
    "elif(p>=45 and p<60):\n",
    "    print('B+')\n",
    "elif(p>=35 and p<45):\n",
    "    print('B')\n",
    "else:\n",
    "    print('FAIL')"
   ]
  },
  {
   "cell_type": "code",
   "execution_count": 1,
   "id": "f95f1394",
   "metadata": {},
   "outputs": [
    {
     "name": "stdout",
     "output_type": "stream",
     "text": [
      "1\n",
      "2\n",
      "3\n",
      "4\n",
      "5\n",
      "6\n",
      "7\n",
      "8\n",
      "9\n",
      "10\n",
      "11\n",
      "12\n",
      "13\n",
      "14\n",
      "15\n",
      "16\n",
      "17\n",
      "18\n",
      "19\n",
      "20\n",
      "21\n",
      "22\n",
      "23\n",
      "24\n",
      "25\n",
      "26\n",
      "27\n",
      "28\n",
      "29\n",
      "30\n",
      "31\n",
      "32\n",
      "33\n",
      "34\n",
      "35\n",
      "36\n",
      "37\n",
      "38\n",
      "39\n",
      "40\n",
      "41\n",
      "42\n",
      "43\n",
      "44\n",
      "45\n",
      "46\n",
      "47\n",
      "48\n",
      "49\n",
      "50\n",
      "51\n",
      "52\n",
      "53\n",
      "54\n",
      "55\n",
      "56\n",
      "57\n",
      "58\n",
      "59\n",
      "60\n",
      "61\n",
      "62\n",
      "63\n",
      "64\n",
      "65\n",
      "66\n",
      "67\n",
      "68\n",
      "69\n",
      "70\n",
      "71\n",
      "72\n",
      "73\n",
      "74\n",
      "75\n",
      "76\n",
      "77\n",
      "78\n",
      "79\n",
      "80\n",
      "81\n",
      "82\n",
      "83\n",
      "84\n",
      "85\n",
      "86\n",
      "87\n",
      "88\n",
      "89\n",
      "90\n",
      "91\n",
      "92\n",
      "93\n",
      "94\n",
      "95\n",
      "96\n",
      "97\n",
      "98\n",
      "99\n",
      "100\n"
     ]
    }
   ],
   "source": [
    "i=1\n",
    "while(i<=100):\n",
    "    print(i)\n",
    "    i=i+1\n",
    "    "
   ]
  },
  {
   "cell_type": "code",
   "execution_count": null,
   "id": "414ccc08",
   "metadata": {},
   "outputs": [],
   "source": [
    "\n",
    "    "
   ]
  },
  {
   "cell_type": "code",
   "execution_count": null,
   "id": "e8435c37",
   "metadata": {},
   "outputs": [],
   "source": []
  }
 ],
 "metadata": {
  "kernelspec": {
   "display_name": "Python 3 (ipykernel)",
   "language": "python",
   "name": "python3"
  },
  "language_info": {
   "codemirror_mode": {
    "name": "ipython",
    "version": 3
   },
   "file_extension": ".py",
   "mimetype": "text/x-python",
   "name": "python",
   "nbconvert_exporter": "python",
   "pygments_lexer": "ipython3",
   "version": "3.9.13"
  }
 },
 "nbformat": 4,
 "nbformat_minor": 5
}

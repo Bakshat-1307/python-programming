{
 "cells": [
  {
   "cell_type": "code",
   "execution_count": 1,
   "id": "9d7e6778",
   "metadata": {},
   "outputs": [
    {
     "name": "stdout",
     "output_type": "stream",
     "text": [
      "10\n"
     ]
    }
   ],
   "source": [
    "a=10\n",
    "print(a)\n"
   ]
  },
  {
   "cell_type": "code",
   "execution_count": 2,
   "id": "c7c87f86",
   "metadata": {},
   "outputs": [
    {
     "data": {
      "text/plain": [
       "int"
      ]
     },
     "execution_count": 2,
     "metadata": {},
     "output_type": "execute_result"
    }
   ],
   "source": [
    "type(a)"
   ]
  },
  {
   "cell_type": "code",
   "execution_count": 4,
   "id": "33b5a1c1",
   "metadata": {},
   "outputs": [
    {
     "data": {
      "text/plain": [
       "str"
      ]
     },
     "execution_count": 4,
     "metadata": {},
     "output_type": "execute_result"
    }
   ],
   "source": [
    "ch='hello'\n",
    "type(ch)"
   ]
  },
  {
   "cell_type": "code",
   "execution_count": 8,
   "id": "506b14e6",
   "metadata": {},
   "outputs": [
    {
     "name": "stdout",
     "output_type": "stream",
     "text": [
      "enter a number23\n"
     ]
    }
   ],
   "source": [
    "x=int(input(\"enter a number\"))"
   ]
  },
  {
   "cell_type": "code",
   "execution_count": 6,
   "id": "4863403f",
   "metadata": {},
   "outputs": [
    {
     "name": "stdout",
     "output_type": "stream",
     "text": [
      "23\n"
     ]
    }
   ],
   "source": [
    "print(x)"
   ]
  },
  {
   "cell_type": "code",
   "execution_count": 7,
   "id": "b458cd57",
   "metadata": {},
   "outputs": [
    {
     "data": {
      "text/plain": [
       "str"
      ]
     },
     "execution_count": 7,
     "metadata": {},
     "output_type": "execute_result"
    }
   ],
   "source": [
    "type(x)"
   ]
  },
  {
   "cell_type": "code",
   "execution_count": 9,
   "id": "b48f987c",
   "metadata": {},
   "outputs": [
    {
     "data": {
      "text/plain": [
       "int"
      ]
     },
     "execution_count": 9,
     "metadata": {},
     "output_type": "execute_result"
    }
   ],
   "source": [
    "type(x)"
   ]
  },
  {
   "cell_type": "code",
   "execution_count": 10,
   "id": "d4c485a4",
   "metadata": {},
   "outputs": [
    {
     "name": "stdout",
     "output_type": "stream",
     "text": [
      "<class 'float'>\n"
     ]
    }
   ],
   "source": [
    "f=17.5\n",
    "print(type(f))\n",
    "\n"
   ]
  },
  {
   "cell_type": "code",
   "execution_count": 11,
   "id": "4639669b",
   "metadata": {},
   "outputs": [],
   "source": [
    "f=(int)(f)"
   ]
  },
  {
   "cell_type": "code",
   "execution_count": 12,
   "id": "d5d85970",
   "metadata": {},
   "outputs": [
    {
     "name": "stdout",
     "output_type": "stream",
     "text": [
      "17\n"
     ]
    }
   ],
   "source": [
    "print(f)"
   ]
  },
  {
   "cell_type": "code",
   "execution_count": 13,
   "id": "7b0f8eae",
   "metadata": {},
   "outputs": [
    {
     "name": "stdout",
     "output_type": "stream",
     "text": [
      "424\n"
     ]
    }
   ],
   "source": [
    "p=24\n",
    "q=400\n",
    "print(p+q)"
   ]
  },
  {
   "cell_type": "code",
   "execution_count": 14,
   "id": "0bc28526",
   "metadata": {},
   "outputs": [
    {
     "name": "stdout",
     "output_type": "stream",
     "text": [
      "-376\n"
     ]
    }
   ],
   "source": [
    "print(p-q)"
   ]
  },
  {
   "cell_type": "code",
   "execution_count": 15,
   "id": "e1e08e43",
   "metadata": {},
   "outputs": [
    {
     "name": "stdout",
     "output_type": "stream",
     "text": [
      "9600\n"
     ]
    }
   ],
   "source": [
    "print(p*q)"
   ]
  },
  {
   "cell_type": "code",
   "execution_count": 16,
   "id": "ad063b1b",
   "metadata": {},
   "outputs": [
    {
     "name": "stdout",
     "output_type": "stream",
     "text": [
      "16.666666666666668\n"
     ]
    }
   ],
   "source": [
    "print(q/p)"
   ]
  },
  {
   "cell_type": "code",
   "execution_count": 17,
   "id": "0971a9e6",
   "metadata": {},
   "outputs": [
    {
     "name": "stdout",
     "output_type": "stream",
     "text": [
      "16\n"
     ]
    }
   ],
   "source": [
    "print(q%p)"
   ]
  },
  {
   "cell_type": "code",
   "execution_count": 18,
   "id": "090130fc",
   "metadata": {},
   "outputs": [
    {
     "name": "stdout",
     "output_type": "stream",
     "text": [
      "11\n"
     ]
    }
   ],
   "source": [
    "p=300\n",
    "q=27\n",
    "print(p//q)"
   ]
  },
  {
   "cell_type": "code",
   "execution_count": 19,
   "id": "fd272d99",
   "metadata": {},
   "outputs": [
    {
     "name": "stdout",
     "output_type": "stream",
     "text": [
      "7625597484987000000000000000000000000000000000000000000000000000000\n"
     ]
    }
   ],
   "source": [
    "print(p**q)"
   ]
  },
  {
   "cell_type": "code",
   "execution_count": null,
   "id": "bf1fd991",
   "metadata": {},
   "outputs": [],
   "source": []
  },
  {
   "cell_type": "code",
   "execution_count": null,
   "id": "1401236e",
   "metadata": {},
   "outputs": [],
   "source": []
  },
  {
   "cell_type": "code",
   "execution_count": 28,
   "id": "6622024b",
   "metadata": {},
   "outputs": [
    {
     "name": "stdout",
     "output_type": "stream",
     "text": [
      "enter the lenght4\n",
      "enter the breath5\n",
      "area of rectangle is: 20\n"
     ]
    }
   ],
   "source": [
    "#objective:WAP to calculate area of rectangle\n",
    "l=int(input(\"enter the lenght\"))\n",
    "b=int(input(\"enter the breath\"))\n",
    "area=(l*b)\n",
    "print(\"area of rectangle is:\",area)"
   ]
  },
  {
   "cell_type": "code",
   "execution_count": 29,
   "id": "1050d22e",
   "metadata": {},
   "outputs": [
    {
     "name": "stdout",
     "output_type": "stream",
     "text": [
      "enter base of the traingle3\n",
      "enter height of the triangle4\n",
      "area of traingle is: 6.0\n"
     ]
    }
   ],
   "source": [
    "#WAP to find area of a traiangle\n",
    "b=int(input(\"enter base of the traingle\"))\n",
    "h=int(input(\"enter height of the triangle\"))\n",
    "area=(1/2*b*h)\n",
    "print(\"area of traingle is:\",area)"
   ]
  },
  {
   "cell_type": "code",
   "execution_count": 31,
   "id": "81f21c73",
   "metadata": {},
   "outputs": [
    {
     "name": "stdout",
     "output_type": "stream",
     "text": [
      "enter the principle2000\n",
      "enter the rate2\n",
      "enter the time5\n",
      "simple intrest: 200.0\n"
     ]
    }
   ],
   "source": [
    "#WAP to calculate simple intrest\n",
    "p=int(input(\"enter the principle\"))\n",
    "r=int(input(\"enter the rate\"))\n",
    "t=int(input(\"enter the time\"))\n",
    "SI=((p*r*t)/100)\n",
    "print(\"simple intrest:\",SI)"
   ]
  },
  {
   "cell_type": "code",
   "execution_count": 36,
   "id": "1330bc27",
   "metadata": {},
   "outputs": [
    {
     "name": "stdout",
     "output_type": "stream",
     "text": [
      "enter base of traingle4\n",
      "enter height of triangle5\n",
      "6.4031242374328485\n"
     ]
    }
   ],
   "source": [
    "#WAP to find hypotenius of rat\n",
    "import math\n",
    "b=int(input(\"enter base of traingle\"))\n",
    "h=int(input(\"enter height of triangle\"))\n",
    "hypo=math.sqrt((b**2)+(h**2))\n",
    "print(hypo)\n"
   ]
  },
  {
   "cell_type": "code",
   "execution_count": 37,
   "id": "fbe0c9a7",
   "metadata": {},
   "outputs": [
    {
     "name": "stdout",
     "output_type": "stream",
     "text": [
      "enter the distance700\n",
      "enter the time5\n",
      "speed: 140.0\n"
     ]
    }
   ],
   "source": [
    "# WAP TO CALCULATE THE SPEED OF VEHICLE\n",
    "D=int(input(\"enter the distance\"))\n",
    "t=int(input(\"enter the time\"))\n",
    "speed= (D/t)\n",
    "print(\"speed:\", speed)\n"
   ]
  },
  {
   "cell_type": "code",
   "execution_count": 39,
   "id": "ebc46d82",
   "metadata": {},
   "outputs": [
    {
     "name": "stdout",
     "output_type": "stream",
     "text": [
      "enter weight in kg56\n",
      "weight in pound is: 123.20000000000002\n",
      "weight in tons is: 0.0616\n"
     ]
    }
   ],
   "source": [
    "#WAP TO DISPLAY WEIGHT IN POUND AND TONS\n",
    "w=float(input(\"enter weight in kg\"))\n",
    "p=(w*2.2)\n",
    "t=(w*0.0011)\n",
    "print(\"weight in pound is:\",p)\n",
    "print(\"weight in tons is:\",t)\n"
   ]
  },
  {
   "cell_type": "code",
   "execution_count": 41,
   "id": "63d0d461",
   "metadata": {},
   "outputs": [
    {
     "name": "stdout",
     "output_type": "stream",
     "text": [
      "enter the pronciple2000\n",
      "enter the time5\n",
      "enter the rate2\n",
      "compound intrest: 208.16160639999998\n"
     ]
    }
   ],
   "source": [
    "#WAP TO CALCUATE COMPPOUND INTREST\n",
    "p=int(input(\"enter the principle\"))\n",
    "t=int(input(\"enter the time\"))\n",
    "r=int(input(\"enter the rate\"))\n",
    "a=p*(1+(r/100))**t\n",
    "CI=a-p\n",
    "print(\"compound intrest:\",CI)"
   ]
  },
  {
   "cell_type": "code",
   "execution_count": 42,
   "id": "5d0ab8b7",
   "metadata": {},
   "outputs": [
    {
     "name": "stdout",
     "output_type": "stream",
     "text": [
      "enter the distance in kilometers29\n",
      "distance in meter 29000.0\n",
      "distance in centimeter 2900000.0\n",
      "distance in miles 47.0177\n"
     ]
    }
   ],
   "source": [
    "#WAP TO CALCULATE DISTANCE BETWEEN CITIES\n",
    "d=float(input(\"enter the distance in kilometers\"))\n",
    "m=d*1000\n",
    "cm=m*100\n",
    "mi=d*1.6213\n",
    "print(\"distance in meter\",m)\n",
    "print(\"distance in centimeter\",cm)\n",
    "print(\"distance in miles\",mi)"
   ]
  },
  {
   "cell_type": "code",
   "execution_count": 1,
   "id": "9c45fcc4",
   "metadata": {},
   "outputs": [
    {
     "name": "stdout",
     "output_type": "stream",
     "text": [
      "1\n"
     ]
    }
   ],
   "source": [
    "a=2+45//6-8\n",
    "print(a)"
   ]
  },
  {
   "cell_type": "code",
   "execution_count": 6,
   "id": "36c795f2",
   "metadata": {},
   "outputs": [
    {
     "name": "stdout",
     "output_type": "stream",
     "text": [
      "True\n"
     ]
    }
   ],
   "source": [
    "a=45\n",
    "b=45\n",
    "print(a==b or b>=a)"
   ]
  },
  {
   "cell_type": "code",
   "execution_count": 9,
   "id": "fde81e8e",
   "metadata": {},
   "outputs": [
    {
     "name": "stdout",
     "output_type": "stream",
     "text": [
      "enter themrp of product:100\n",
      "118.0\n"
     ]
    }
   ],
   "source": [
    "#WAP TO CALCULATE TOTAL PRICE AFTER TAX\n",
    "MRP=int(input(\"enter the mrp of product:\"))\n",
    "tax=((18/100)*MRP)\n",
    "price=MRP+tax\n",
    "print(price)"
   ]
  },
  {
   "cell_type": "code",
   "execution_count": 12,
   "id": "6d823697",
   "metadata": {},
   "outputs": [
    {
     "name": "stdout",
     "output_type": "stream",
     "text": [
      "enter the number of items:15\n",
      "enter mrp of product:30\n",
      "486.0\n"
     ]
    }
   ],
   "source": [
    "#WAP TO CALCULATE BILL\n",
    "QUANTITY=int(input(\"enter the number of items:\"))\n",
    "MRP=float(input(\"enter mrp of product:\"))\n",
    "TAX=(18/100)*MRP\n",
    "DISCOUNT=(10/100)*MRP\n",
    "final_price=(MRP+TAX-DISCOUNT)*QUANTITY\n",
    "print(final_price)"
   ]
  },
  {
   "cell_type": "code",
   "execution_count": 13,
   "id": "4744be70",
   "metadata": {},
   "outputs": [
    {
     "name": "stdout",
     "output_type": "stream",
     "text": [
      "enter temperature in celsius:23\n",
      "temperature in kelvin: 296.15\n",
      "temperature in fehrenheit: 55.0\n"
     ]
    }
   ],
   "source": [
    "#WAP TO CONVERT TEMPERATURE IN KELVIN AND FEHRENHEIT\n",
    "C=float(input(\"enter temperature in celsius:\"))\n",
    "K=C+273.15\n",
    "F=C+32\n",
    "print(\"temperature in kelvin:\",K)\n",
    "print(\"temperature in fehrenheit:\",F)"
   ]
  },
  {
   "cell_type": "code",
   "execution_count": 5,
   "id": "b79e4578",
   "metadata": {},
   "outputs": [
    {
     "name": "stdout",
     "output_type": "stream",
     "text": [
      "enter the value of n:45\n",
      "1035.0\n"
     ]
    }
   ],
   "source": [
    "#WAP TO CALCULATE SUM OF FIRST N NATURAL NUMBERS\n",
    "n=int(input(\"enter the value of n:\"))\n",
    "sum=n*(n+1)/2\n",
    "print(sum)"
   ]
  },
  {
   "cell_type": "code",
   "execution_count": 14,
   "id": "919d5266",
   "metadata": {},
   "outputs": [
    {
     "name": "stdout",
     "output_type": "stream",
     "text": [
      "2.3\n"
     ]
    }
   ],
   "source": [
    "import math\n",
    "a=round(2.33,1)\n",
    "print(a)"
   ]
  },
  {
   "cell_type": "code",
   "execution_count": 3,
   "id": "99fb1941",
   "metadata": {},
   "outputs": [
    {
     "name": "stdout",
     "output_type": "stream",
     "text": [
      "9.0\n"
     ]
    }
   ],
   "source": [
    "import math\n",
    "b=math.sqrt(81)\n",
    "print(b)"
   ]
  },
  {
   "cell_type": "code",
   "execution_count": 15,
   "id": "76d751fc",
   "metadata": {},
   "outputs": [
    {
     "name": "stdout",
     "output_type": "stream",
     "text": [
      "27\n",
      "-24\n",
      "48\n",
      "11\n",
      "1\n",
      "4\n",
      "31\n",
      "23\n",
      "False\n",
      "True\n",
      "12\n"
     ]
    }
   ],
   "source": [
    "a=23\n",
    "b=12\n",
    "c=(a^b)\n",
    "print(c)\n",
    "print(~a)\n",
    "print(b<<2)\n",
    "print(a>>1)\n",
    "print(b>>3)\n",
    "print(a&b)\n",
    "print(a|b)\n",
    "print(a or b)\n",
    "print(a is  b)\n",
    "print(a is not b)\n",
    "print(a and b)"
   ]
  },
  {
   "cell_type": "code",
   "execution_count": null,
   "id": "7095436e",
   "metadata": {},
   "outputs": [],
   "source": [
    "i=1\n",
    "while(i<=100):\n",
    "    if(i%2==0):\n",
    "        print(i)\n",
    "        i=i+1"
   ]
  },
  {
   "cell_type": "code",
   "execution_count": 2,
   "id": "f1e14362",
   "metadata": {},
   "outputs": [
    {
     "name": "stdout",
     "output_type": "stream",
     "text": [
      "enter a 3 digit number:123\n",
      "7.09\n"
     ]
    }
   ],
   "source": [
    "\n"
   ]
  },
  {
   "cell_type": "code",
   "execution_count": null,
   "id": "3737057a",
   "metadata": {},
   "outputs": [],
   "source": [
    "print(16%15)"
   ]
  }
 ],
 "metadata": {
  "kernelspec": {
   "display_name": "Python 3 (ipykernel)",
   "language": "python",
   "name": "python3"
  },
  "language_info": {
   "codemirror_mode": {
    "name": "ipython",
    "version": 3
   },
   "file_extension": ".py",
   "mimetype": "text/x-python",
   "name": "python",
   "nbconvert_exporter": "python",
   "pygments_lexer": "ipython3",
   "version": "3.9.13"
  }
 },
 "nbformat": 4,
 "nbformat_minor": 5
}
